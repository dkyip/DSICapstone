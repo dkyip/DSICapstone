{
 "cells": [
  {
   "cell_type": "code",
   "execution_count": 18,
   "metadata": {},
   "outputs": [],
   "source": [
    "import pandas as pd\n",
    "import numpy as np\n",
    "import matplotlib.pyplot as plt\n",
    "import seaborn as sns"
   ]
  },
  {
   "cell_type": "code",
   "execution_count": 19,
   "metadata": {},
   "outputs": [],
   "source": [
    "df_biketrips = pd.read_csv('biketrips2011.csv')\n",
    "df_biketrips['StartTime'] = df_biketrips['StartTime'].astype('datetime64')\n",
    "df_biketrips['EndTime'] = df_biketrips['EndTime'].astype('datetime64')"
   ]
  },
  {
   "cell_type": "code",
   "execution_count": 20,
   "metadata": {},
   "outputs": [
    {
     "name": "stdout",
     "output_type": "stream",
     "text": [
      "<class 'pandas.core.frame.DataFrame'>\n",
      "RangeIndex: 1226768 entries, 0 to 1226767\n",
      "Data columns (total 23 columns):\n",
      "Unnamed: 0               1226768 non-null int64\n",
      "BikeNum                  1226768 non-null object\n",
      "MemType                  1226768 non-null object\n",
      "StartNum                 1226768 non-null float64\n",
      "EndNum                   1226768 non-null float64\n",
      "LastEnd                  1225443 non-null float64\n",
      "StartTime                1226768 non-null datetime64[ns]\n",
      "EndTime                  1226768 non-null datetime64[ns]\n",
      "LastEndTime              1225443 non-null object\n",
      "count                    1226768 non-null int64\n",
      "TripDuration             1226768 non-null float64\n",
      "StartIsLastEnd           1226768 non-null int64\n",
      "DurationSinceLastTrip    1226768 non-null int64\n",
      "bikeavailunder1m         1226768 non-null int64\n",
      "bikeavailunder10m        1226768 non-null int64\n",
      "bikeavailunder1h         1226768 non-null int64\n",
      "bikeavailover12h         1226768 non-null int64\n",
      "bikeavailover1d          1226768 non-null int64\n",
      "biketripunder1m          1226768 non-null int64\n",
      "biketripunder10m         1226768 non-null int64\n",
      "biketripunder1h          1226768 non-null int64\n",
      "biketripover1h           1226768 non-null int64\n",
      "biketripover1d           1226768 non-null int64\n",
      "dtypes: datetime64[ns](2), float64(4), int64(14), object(3)\n",
      "memory usage: 215.3+ MB\n"
     ]
    }
   ],
   "source": [
    "df_biketrips.info()"
   ]
  },
  {
   "cell_type": "code",
   "execution_count": 21,
   "metadata": {},
   "outputs": [],
   "source": [
    "group_segments = df_biketrips.groupby(['StartNum','EndNum'])"
   ]
  },
  {
   "cell_type": "code",
   "execution_count": 22,
   "metadata": {},
   "outputs": [
    {
     "data": {
      "text/plain": [
       "StartNum  EndNum \n",
       "31613.0   31619.0    4441\n",
       "31106.0   31104.0    4349\n",
       "31104.0   31106.0    4330\n",
       "31619.0   31613.0    3462\n",
       "31200.0   31201.0    3236\n",
       "31217.0   31217.0    3135\n",
       "31229.0   31200.0    2991\n",
       "31201.0   31200.0    2837\n",
       "31623.0   31611.0    2647\n",
       "          31622.0    2548\n",
       "31101.0   31200.0    2474\n",
       "31200.0   31229.0    2472\n",
       "31622.0   31623.0    2440\n",
       "31007.0   31009.0    2392\n",
       "31201.0   31229.0    2165\n",
       "31007.0   31011.0    2149\n",
       "31611.0   31623.0    2129\n",
       "31104.0   31200.0    2118\n",
       "31200.0   31200.0    2016\n",
       "31235.0   31235.0    1984\n",
       "31009.0   31007.0    1983\n",
       "31619.0   31623.0    1980\n",
       "31200.0   31101.0    1962\n",
       "31613.0   31606.0    1821\n",
       "31303.0   31302.0    1820\n",
       "31613.0   31622.0    1808\n",
       "31205.0   31200.0    1796\n",
       "31229.0   31201.0    1790\n",
       "31101.0   31201.0    1784\n",
       "31200.0   31225.0    1765\n",
       "          31205.0    1762\n",
       "31203.0   31200.0    1757\n",
       "31201.0   31101.0    1755\n",
       "31214.0   31201.0    1740\n",
       "31622.0   31613.0    1740\n",
       "31214.0   31213.0    1707\n",
       "31200.0   31237.0    1699\n",
       "31201.0   31214.0    1668\n",
       "31214.0   31200.0    1666\n",
       "31623.0   31619.0    1639\n",
       "31104.0   31107.0    1606\n",
       "31107.0   31104.0    1602\n",
       "31237.0   31200.0    1578\n",
       "31602.0   31107.0    1568\n",
       "31303.0   31301.0    1567\n",
       "31200.0   31104.0    1534\n",
       "          31214.0    1531\n",
       "31225.0   31225.0    1525\n",
       "31215.0   31215.0    1520\n",
       "31200.0   31203.0    1514\n",
       "Name: StartTime, dtype: int64"
      ]
     },
     "execution_count": 22,
     "metadata": {},
     "output_type": "execute_result"
    }
   ],
   "source": [
    "group_segments.count()['StartTime'].sort_values(ascending=False).head(50)"
   ]
  },
  {
   "cell_type": "code",
   "execution_count": 23,
   "metadata": {},
   "outputs": [
    {
     "name": "stdout",
     "output_type": "stream",
     "text": [
      "[  6.00160000e+01   9.96334250e+02   2.66491050e+03   5.58761650e+03\n",
      "   2.41938317e+04   8.63370460e+04]\n",
      "[  6.06420000e+01   4.10217250e+02   6.65270000e+02   1.07784875e+03\n",
      "   7.69694026e+03   8.63559750e+04]\n"
     ]
    }
   ],
   "source": [
    "cond_samestartstop = df_biketrips['StartNum']==df_biketrips['EndNum']\n",
    "print(np.percentile(df_biketrips[cond_samestartstop]['TripDuration'],[0,25,50,75,99,100]))\n",
    "print(np.percentile(df_biketrips[~cond_samestartstop]['TripDuration'],[0,25,50,75,99,100]))"
   ]
  },
  {
   "cell_type": "code",
   "execution_count": null,
   "metadata": {},
   "outputs": [],
   "source": []
  }
 ],
 "metadata": {
  "kernelspec": {
   "display_name": "Python 3",
   "language": "python",
   "name": "python3"
  },
  "language_info": {
   "codemirror_mode": {
    "name": "ipython",
    "version": 3
   },
   "file_extension": ".py",
   "mimetype": "text/x-python",
   "name": "python",
   "nbconvert_exporter": "python",
   "pygments_lexer": "ipython3",
   "version": "3.6.0"
  }
 },
 "nbformat": 4,
 "nbformat_minor": 2
}
